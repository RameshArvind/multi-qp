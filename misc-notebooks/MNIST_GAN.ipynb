{
  "nbformat": 4,
  "nbformat_minor": 0,
  "metadata": {
    "colab": {
      "name": "MNIST GAN.ipynb",
      "provenance": [],
      "collapsed_sections": []
    },
    "kernelspec": {
      "name": "python3",
      "display_name": "Python 3"
    },
    "accelerator": "GPU"
  },
  "cells": [
    {
      "cell_type": "code",
      "metadata": {
        "id": "Ruhkn2zW9nQ3",
        "colab_type": "code",
        "colab": {}
      },
      "source": [
        "import torch\n",
        "import torch.nn as nn\n",
        "import torch.nn.functional as F\n",
        "from torchvision import datasets, transforms\n",
        "from tqdm import tqdm_notebook, trange"
      ],
      "execution_count": 0,
      "outputs": []
    },
    {
      "cell_type": "code",
      "metadata": {
        "id": "x7yk5y6O9sg_",
        "colab_type": "code",
        "colab": {}
      },
      "source": [
        "BATCH_SIZE = 64\n",
        "\n",
        "mnist_data = datasets.MNIST('./mnist', train=True, download=True, transform=transforms.Compose([\n",
        "                           transforms.ToTensor(),\n",
        "                           transforms.Normalize((0.1307,), (0.3081,))\n",
        "                       ]))\n",
        "\n",
        "data_loader = torch.utils.data.DataLoader(mnist_data,\n",
        "                                          batch_size=BATCH_SIZE,\n",
        "                                          shuffle=True,\n",
        "                                          num_workers=4)"
      ],
      "execution_count": 0,
      "outputs": []
    },
    {
      "cell_type": "code",
      "metadata": {
        "id": "F9yPdmNl-vzw",
        "colab_type": "code",
        "colab": {}
      },
      "source": [
        "class Generator(nn.Module):\n",
        "\n",
        "  def __init__(self, in_size, out_size):\n",
        "    super(Generator, self).__init__()\n",
        "\n",
        "    self.fc1 = nn.Linear(in_size, 512)\n",
        "    self.fc2 = nn.Linear(512, out_size)\n",
        "  \n",
        "  def forward(self, latent_vector):\n",
        "\n",
        "    x = self.fc1(latent_vector)\n",
        "    x = F.leaky_relu(x, negative_slope=0.2)\n",
        "    x = self.fc2(x)\n",
        "    x = F.leaky_relu(x, negative_slope=0.2)\n",
        "\n",
        "    return x"
      ],
      "execution_count": 0,
      "outputs": []
    },
    {
      "cell_type": "code",
      "metadata": {
        "id": "IhbksA0LLWty",
        "colab_type": "code",
        "colab": {}
      },
      "source": [
        "class Discriminator(nn.Module):\n",
        "\n",
        "  def __init__  (self, img_size):\n",
        "\n",
        "    super(Discriminator, self).__init__()\n",
        "\n",
        "    self.fc1 = nn.Linear(img_size, 512)\n",
        "    self.fc2 = nn.Linear(512, 1)\n",
        "\n",
        "  def forward(self, img):\n",
        "\n",
        "    x = self.fc1(img)\n",
        "    x = F.leaky_relu(x, negative_slope=0.2)\n",
        "    x = self.fc2(x)\n",
        "    x = torch.sigmoid(x)\n",
        "\n",
        "    return x"
      ],
      "execution_count": 0,
      "outputs": []
    },
    {
      "cell_type": "code",
      "metadata": {
        "id": "Z1hdl1_iOvoF",
        "colab_type": "code",
        "colab": {}
      },
      "source": [
        "x, y = next(iter(data_loader))"
      ],
      "execution_count": 0,
      "outputs": []
    },
    {
      "cell_type": "code",
      "metadata": {
        "id": "WmxA-69aO0Mt",
        "colab_type": "code",
        "outputId": "b74a4b04-4df6-49bd-9dbe-231b8d4789f7",
        "colab": {
          "base_uri": "https://localhost:8080/",
          "height": 35
        }
      },
      "source": [
        "x.shape"
      ],
      "execution_count": 0,
      "outputs": [
        {
          "output_type": "execute_result",
          "data": {
            "text/plain": [
              "torch.Size([64, 1, 28, 28])"
            ]
          },
          "metadata": {
            "tags": []
          },
          "execution_count": 6
        }
      ]
    },
    {
      "cell_type": "code",
      "metadata": {
        "id": "eTtNtnjCNI2P",
        "colab_type": "code",
        "colab": {}
      },
      "source": [
        "IMG_SIZE = 28*28\n",
        "LATENT_SIZE = 64\n",
        "generator_model = Generator(LATENT_SIZE, IMG_SIZE).cuda()\n",
        "discriminator_model = Discriminator(IMG_SIZE).cuda()\n",
        "\n",
        "bce_loss = nn.BCELoss()"
      ],
      "execution_count": 0,
      "outputs": []
    },
    {
      "cell_type": "code",
      "metadata": {
        "id": "EizzSZ7cPswp",
        "colab_type": "code",
        "outputId": "9529f7c9-715f-4e4b-c853-fdcb5544a2cd",
        "colab": {
          "base_uri": "https://localhost:8080/",
          "height": 35
        }
      },
      "source": [
        "NUM_EPOCHS = 100\n",
        "\n",
        "optimizer_G = torch.optim.Adam(generator_model.parameters(), lr = 1e-4)\n",
        "optimizer_D = torch.optim.Adam(discriminator_model.parameters(), lr = 1e-4)\n",
        "\n",
        "for epoch in tqdm_notebook(range(NUM_EPOCHS)):\n",
        "\n",
        "  for x, _ in data_loader:\n",
        "\n",
        "    current_batch_size = x.shape[0]\n",
        "    real_images = x.view(current_batch_size, -1).cuda()\n",
        "\n",
        "    batch_ones = torch.ones((current_batch_size, 1)).cuda()\n",
        "    batch_zeros = torch.zeros((current_batch_size, 1)).cuda()\n",
        "\n",
        "    # Generator Training\n",
        "\n",
        "    latent_vals = torch.randn((current_batch_size, LATENT_SIZE)).cuda()\n",
        "    # print(latent_vals.shape)\n",
        "    generated_fakes = generator_model(latent_vals)\n",
        "    discriminator_results_for_fakes = discriminator_model(generated_fakes)\n",
        "    generator_loss = bce_loss(discriminator_results_for_fakes, batch_ones)\n",
        "\n",
        "    optimizer_G.zero_grad()\n",
        "    generator_loss.backward()\n",
        "    optimizer_G.step()\n",
        "\n",
        "    # Discriminator Training\n",
        "\n",
        "    discriminator_results_for_true_imgs = discriminator_model(real_images)\n",
        "\n",
        "    discriminator_results_for_fakes = discriminator_model(generated_fakes.detach())\n",
        "    # We detach the generated_fakes because we are only training discriminator in this \n",
        "    # phase. detach() prevents the gradients from being propagated\n",
        "    \n",
        "    fake_loss = bce_loss(discriminator_results_for_fakes, batch_zeros)\n",
        "    real_loss = bce_loss(discriminator_results_for_true_imgs, batch_ones)\n",
        "\n",
        "    total_loss = fake_loss + real_loss\n",
        "\n",
        "    optimizer_D.zero_grad()\n",
        "    total_loss.backward()\n",
        "    optimizer_D.step()"
      ],
      "execution_count": 0,
      "outputs": [
        {
          "output_type": "display_data",
          "data": {
            "application/vnd.jupyter.widget-view+json": {
              "model_id": "31ef055e59cc4aceaa0513a66cd97966",
              "version_minor": 0,
              "version_major": 2
            },
            "text/plain": [
              "HBox(children=(IntProgress(value=0), HTML(value='')))"
            ]
          },
          "metadata": {
            "tags": []
          }
        },
        {
          "output_type": "stream",
          "text": [
            "\n"
          ],
          "name": "stdout"
        }
      ]
    },
    {
      "cell_type": "code",
      "metadata": {
        "id": "B5_2lCbkfVA_",
        "colab_type": "code",
        "colab": {}
      },
      "source": [
        "import matplotlib.pyplot as plt"
      ],
      "execution_count": 0,
      "outputs": []
    },
    {
      "cell_type": "code",
      "metadata": {
        "id": "--aav7E5Y9-S",
        "colab_type": "code",
        "outputId": "eff71b8f-9d96-4ea1-8f60-75506886adca",
        "colab": {
          "base_uri": "https://localhost:8080/",
          "height": 287
        }
      },
      "source": [
        "test_latent = torch.randn((1, LATENT_SIZE)).cuda()\n",
        "\n",
        "test_gen_image = generator_model(test_latent)\n",
        "\n",
        "test_gen_image = test_gen_image.view(28, 28)\n",
        "\n",
        "numpy_img = test_gen_image.cpu().detach().numpy()\n",
        "\n",
        "plt.imshow(numpy_img, cmap='gray')"
      ],
      "execution_count": 0,
      "outputs": [
        {
          "output_type": "execute_result",
          "data": {
            "text/plain": [
              "<matplotlib.image.AxesImage at 0x7f0436d38128>"
            ]
          },
          "metadata": {
            "tags": []
          },
          "execution_count": 27
        },
        {
          "output_type": "display_data",
          "data": {
            "image/png": "[encoded data removed]",
            "text/plain": [
              "<Figure size 432x288 with 1 Axes>"
            ]
          },
          "metadata": {
            "tags": []
          }
        }
      ]
    }
  ]
}